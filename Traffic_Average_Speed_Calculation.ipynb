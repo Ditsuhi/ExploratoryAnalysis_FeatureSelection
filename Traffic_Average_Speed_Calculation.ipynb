{
  "nbformat": 4,
  "nbformat_minor": 0,
  "metadata": {
    "colab": {
      "name": "Traffic_Average_Speed_Calculation.ipynb",
      "provenance": [],
      "collapsed_sections": [],
      "authorship_tag": "ABX9TyMbUSEX+npZRu8Hk8H2Idcl",
      "include_colab_link": true
    },
    "kernelspec": {
      "name": "python3",
      "display_name": "Python 3"
    },
    "language_info": {
      "name": "python"
    }
  },
  "cells": [
    {
      "cell_type": "markdown",
      "metadata": {
        "id": "view-in-github",
        "colab_type": "text"
      },
      "source": [
        "<a href=\"https://colab.research.google.com/github/Ditsuhi/ExploratoryAnalysis_FeatureSelection/blob/main/Traffic_Average_Speed_Calculation.ipynb\" target=\"_parent\"><img src=\"https://colab.research.google.com/assets/colab-badge.svg\" alt=\"Open In Colab\"/></a>"
      ]
    },
    {
      "cell_type": "code",
      "execution_count": null,
      "metadata": {
        "id": "Aizin3Rz7BCH"
      },
      "outputs": [],
      "source": [
        "# import all required libraries\n",
        "from arcpy import env\n",
        "from collections import defaultdict\n",
        "from  statistics import mean\n",
        "import numpy\n",
        "import time\n",
        "from datetime import timedelta, date\n",
        "start_time = time.time()\n",
        "\n",
        "def makeFeatureLayerAndTableViewUsingArcpy (currentDate, hour):    \n",
        "    TrafficStation = r\"C:\\Users\\ditsuhi\\Desktop\\arcMap\\madrid\\trafjanuary2019.shp\"\n",
        "    globals()[f\"Traffic2019jan{currentDate.day}_{hour}\"] = fr\"C:\\Users\\ditsuhi\\Desktop\\arcMap\\madrid\\traf2020dec\\2020dec31\\2020dec31.gdb\\sort_traf2019jan{currentDate.day}_{hour}_CopyRows\" \n",
        "    arcpy.management.MakeFeatureLayer(TrafficStation, \"TrafficStation\")\n",
        "    arcpy.MakeTableView_management(fr\"C:\\Users\\ditsuhi\\Desktop\\arcMap\\madrid\\traf2020dec\\2020dec31\\2020dec31.gdb\\sort_traf2019jan{currentDate.day}_{hour}_CopyRows\", f\"Traffic2019jan{currentDate.day}_{hour}\")    \n",
        "    return TrafficStation, f\"Traffic2019jan{currentDate.day}_{hour}\"\n",
        "\n",
        "\n",
        "# to add  intensity,  occupancy time,  load, and traffic speed of files corresponding to all hours in a specific week\n",
        "for date_dec in range(1, 8):\n",
        "    for hour in range(0, 24):\n",
        "        arcpy.CopyRows_management(fr\"C:\\Users\\ditsuhi\\Desktop\\arcMap\\madrid\\traf2020dec\\content\\trafJan2019\\sort_traf2019jan{date_dec}_{hour}.csv\", fr\"C:\\Users\\ditsuhi\\Desktop\\arcMap\\madrid\\traf2020dec\\2020dec31\\2020dec31.gdb\\sort_traf2019jan{date_dec}_{hour}_CopyRows\")\n",
        "        end_date = date(2019, 1, date_dec)               \n",
        "        print(str(end_date))\n",
        "        TrafficStation, globals()[f\"Traffic2019jan{end_date.day}_{hour}\"] = makeFeatureLayerAndTableViewUsingArcpy(end_date, hour)\n",
        "        inFeatures = TrafficStation\n",
        "        joinField = \"id\"\n",
        "        joinTable = globals()[f\"Traffic2019jan{end_date.day}_{hour}\"] \n",
        "        fieldList = [\"intensidad\", \"ocupacion\", \"carga\", \"vmed\"]\n",
        "        arcpy.JoinField_management(inFeatures, joinField, joinTable, joinField, \n",
        "                                   fieldList)       \n",
        "        "
      ]
    },
    {
      "cell_type": "code",
      "source": [
        "# add new fields for calculating average intensity, average occupancy time, average load, and average speed\n",
        "\n",
        "allColumns = [\"avgIntens\", \"avgOcup\", \"avgCarga\", \"avgVmed\"]\n",
        "\n",
        "def addFieldsToFishnet (trafColumn):\n",
        "    for col in trafColumn:\n",
        "        arcpy.management.AddField(TrafficStation, col, \"Double\")\n",
        "       \n",
        "    \n",
        "addFieldsToFishnet (allColumns) "
      ],
      "metadata": {
        "id": "oa8stX8a7vkX"
      },
      "execution_count": null,
      "outputs": []
    },
    {
      "cell_type": "code",
      "source": [
        "#  extract all field's names\n",
        "\n",
        "TrafficStation = r\"C:\\Users\\ditsuhi\\Desktop\\arcMap\\madrid\\trafjanuary2019.shp\"\n",
        "field_names = [f.name for f in arcpy.ListFields(TrafficStation)]"
      ],
      "metadata": {
        "id": "NBAr0Qac7xRX"
      },
      "execution_count": null,
      "outputs": []
    },
    {
      "cell_type": "code",
      "source": [
        "# extract only those fields that we are interested in (average intensity, average occupancy time, average load, and average speed)\n",
        "fields = field_names[12:]\n",
        "print(fields)\n",
        "# create update cursor for feature class \n",
        "with arcpy.da.UpdateCursor(TrafficStation, fields) as cursor:\n",
        "    # calculate the average value of the corresponding fields\n",
        "    for row in cursor:\n",
        "        row[672] = mean([row[i] for i in range(0, 672, 4)])\n",
        "        row[673] = mean([row[i] for i in range(1, 672, 4)])\n",
        "        row[674] = mean([row[i] for i in range(2, 672, 4)])\n",
        "        row[675] = mean([row[i] for i in range(3, 672, 4)])\n",
        "        # update the cursor with the updated list\n",
        "        cursor.updateRow(row)\n",
        "\n",
        "# remove irrelevant fields\n",
        "arcpy.management.DeleteField(TrafficStation, fields[: -4])"
      ],
      "metadata": {
        "id": "chg-CBaz71D_"
      },
      "execution_count": null,
      "outputs": []
    }
  ]
}