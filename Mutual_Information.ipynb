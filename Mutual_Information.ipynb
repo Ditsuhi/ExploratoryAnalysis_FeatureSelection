{
  "nbformat": 4,
  "nbformat_minor": 0,
  "metadata": {
    "colab": {
      "name": "Mutual_Information.ipynb",
      "provenance": [],
      "collapsed_sections": [],
      "authorship_tag": "ABX9TyOfgQ//Elfb+pnhnj0KrcAw",
      "include_colab_link": true
    },
    "kernelspec": {
      "name": "python3",
      "display_name": "Python 3"
    },
    "language_info": {
      "name": "python"
    }
  },
  "cells": [
    {
      "cell_type": "markdown",
      "metadata": {
        "id": "view-in-github",
        "colab_type": "text"
      },
      "source": [
        "<a href=\"https://colab.research.google.com/github/Ditsuhi/ExploratoryAnalysis_FeatureSelection/blob/main/Mutual_Information.ipynb\" target=\"_parent\"><img src=\"https://colab.research.google.com/assets/colab-badge.svg\" alt=\"Open In Colab\"/></a>"
      ]
    },
    {
      "cell_type": "code",
      "execution_count": 19,
      "metadata": {
        "id": "CtELokeHIyin"
      },
      "outputs": [],
      "source": [
        "# import required libraries\n",
        "\n",
        "from sklearn.model_selection import train_test_split\n",
        "from sklearn.feature_selection import SelectKBest, mutual_info_regression\n",
        "from matplotlib import pyplot\n",
        "import pandas as pd\n",
        "import numpy as np\n",
        "import pickle\n"
      ]
    },
    {
      "cell_type": "code",
      "source": [
        "# the dataset can be found at the following link: https://doi.org/10.5281/zenodo.6497108. \n",
        "# the path provided below can be changed depending your data location.\n",
        "\n",
        "data = pd.read_csv('/content/Madrid_wind_2019.csv', index_col='Unnamed: 0')\n"
      ],
      "metadata": {
        "id": "H5zerzKEYw5W"
      },
      "execution_count": 20,
      "outputs": []
    },
    {
      "cell_type": "code",
      "source": [
        "data.columns"
      ],
      "metadata": {
        "colab": {
          "base_uri": "https://localhost:8080/"
        },
        "id": "BFTLw8ncSyrf",
        "outputId": "191accaf-cdc1-47f4-a7d3-f678b20949ef"
      },
      "execution_count": 21,
      "outputs": [
        {
          "output_type": "execute_result",
          "data": {
            "text/plain": [
              "Index(['NO2', 'intensidad', 'ocupacion', 'windSpeed', ' Pressure', ' SolarRad',\n",
              "       ' Temperature', ' Humidity', 'carga', 'vmed', 'v_comp', 'u_comp',\n",
              "       'windDir_Categ_east', 'windDir_Categ_north', 'windDir_Categ_northeast',\n",
              "       'windDir_Categ_northwest', 'windDir_Categ_south',\n",
              "       'windDir_Categ_southeast', 'windDir_Categ_southwest',\n",
              "       'windDir_Categ_west'],\n",
              "      dtype='object')"
            ]
          },
          "metadata": {},
          "execution_count": 21
        }
      ]
    },
    {
      "cell_type": "code",
      "source": [
        "# below are the features selected to run mutual information. There are 2 scenarios to be run. The first scenario includes wind direction converted to categories and then applied One Hot Encoder. \n",
        "\n",
        "# first option\n",
        "# data = data[['NO2', 'intensidad', 'ocupacion', 'windSpeed', ' Pressure', ' SolarRad',\n",
        "#        ' Temperature', ' Humidity', 'carga', 'vmed', 'windDir_Categ_east', 'windDir_Categ_north', 'windDir_Categ_northeast',\n",
        "#        'windDir_Categ_northwest', 'windDir_Categ_south',  'windDir_Categ_southeast', 'windDir_Categ_southwest',\n",
        "#        'windDir_Categ_west'\n",
        "#        ]]\n",
        "\n",
        "\n",
        "# second scenario\n",
        "## This part that is currently uncommented includes wind direction converted to u and v components.\n",
        "\n",
        "data = data[['NO2', 'intensidad', 'ocupacion', 'windSpeed', ' Pressure', ' SolarRad',\n",
        "       ' Temperature', ' Humidity', 'carga', 'vmed', 'v_comp', 'u_comp'\n",
        "       ]]       "
      ],
      "metadata": {
        "id": "iL-SFaZdSvHo"
      },
      "execution_count": 22,
      "outputs": []
    },
    {
      "cell_type": "code",
      "source": [
        "#create dependent and independent variables from our dataset (target variable-nitrogen dioxide, independent variable-the rest of the features)\n",
        "\n",
        "X = data.drop(['NO2'], axis=1)\n",
        "y = data['NO2']\n",
        "\n",
        "#after determining X and y, to implement mutual information, it is necessary to create training and test sets\n",
        "x_train, x_test, y_train, y_test = train_test_split(X, y, test_size=0.2, shuffle = False)\n",
        "\n",
        "# calculate mutual information feature selection for numerical input data\n",
        "# feature selection\n",
        "def select_features(x_train, y_train, x_test):\n",
        "\t# configure to select all features\n",
        "\tfs = SelectKBest(score_func=mutual_info_regression, k='all')\n",
        "\t# learn relationship from training data\n",
        "\tfs.fit(x_train, y_train)\n",
        "\t# transform train input data\n",
        "\tx_train_fs = fs.transform(x_train)\n",
        "\t# transform test input data\n",
        "\tx_test_fs = fs.transform(x_test)\n",
        "\treturn x_train_fs, x_test_fs, fs\n",
        "\n",
        "\n",
        "x_train_fs, x_test_fs, fs = select_features(x_train, y_train, x_test)\n",
        "# what are scores for the features\n",
        "for i in range(len(fs.scores_)):\n",
        "\tprint('Feature %d: %f' % (i, fs.scores_[i]))\n"
      ],
      "metadata": {
        "id": "Qusa47axI8m_",
        "colab": {
          "base_uri": "https://localhost:8080/"
        },
        "outputId": "fdb42528-9944-4298-821d-6d38c255d713"
      },
      "execution_count": 23,
      "outputs": [
        {
          "output_type": "stream",
          "name": "stdout",
          "text": [
            "Feature 0: 0.024618\n",
            "Feature 1: 0.020824\n",
            "Feature 2: 0.014934\n",
            "Feature 3: 0.008034\n",
            "Feature 4: 0.004777\n",
            "Feature 5: 0.002641\n",
            "Feature 6: 0.002006\n",
            "Feature 7: 0.021411\n",
            "Feature 8: 0.020642\n",
            "Feature 9: 0.022457\n",
            "Feature 10: 0.022915\n"
          ]
        }
      ]
    },
    {
      "cell_type": "code",
      "source": [
        "## plot the scores\n",
        "##creating list with X.columns\n",
        "# bars  = ['Intens', 'Ocup', 'WS', ' Press', ' SR', ' Temp', ' Hum', 'Load', 'ATS',  'E', 'N', 'NE',  'NW', 'S',  'SE', 'SW',  'W']\n",
        "bars  = ['Intens', 'Ocup', 'WS', ' Press', ' SR', ' Temp', ' Hum', 'Load', 'ATS',  'v', 'u']\n",
        "y_pos = np.arange(len(bars))\n",
        "pyplot.bar([i for i in range(len(fs.scores_))], fs.scores_)\n",
        "pyplot.xticks(y_pos, bars,  rotation=45,  horizontalalignment='right')\n",
        "pyplot.savefig('mutInfo.pdf')\n",
        "pyplot.show()"
      ],
      "metadata": {
        "colab": {
          "base_uri": "https://localhost:8080/",
          "height": 284
        },
        "id": "7dBkD8lRaghH",
        "outputId": "eacc6f02-c2c7-4ea3-f835-8f4d310e6535"
      },
      "execution_count": 25,
      "outputs": [
        {
          "output_type": "display_data",
          "data": {
            "text/plain": [
              "<Figure size 432x288 with 1 Axes>"
            ],
            "image/png": "[encoded data removed]"
          },
          "metadata": {
            "needs_background": "light"
          }
        }
      ]
    },
    {
      "cell_type": "code",
      "source": [
        "# with open('mutInf_WDCat.pkl', 'wb') as f:\n",
        "#   pickle.dump(fs, f)\n",
        "\n",
        "with open('mutInf_WDUV.pkl', 'wb') as f:\n",
        "  pickle.dump(fs, f)"
      ],
      "metadata": {
        "id": "aw2i0HHGa4Vd"
      },
      "execution_count": 26,
      "outputs": []
    },
    {
      "cell_type": "code",
      "source": [
        "with open('/content/mutInf_WDUV.pkl', 'rb') as f:\n",
        "  fs = pickle.load(f)"
      ],
      "metadata": {
        "id": "6xSKAa4dbLBu"
      },
      "execution_count": 4,
      "outputs": []
    }
  ]
}