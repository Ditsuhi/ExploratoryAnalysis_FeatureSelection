{
  "nbformat": 4,
  "nbformat_minor": 0,
  "metadata": {
    "colab": {
      "name": "mRMR.ipynb",
      "provenance": [],
      "collapsed_sections": [],
      "include_colab_link": true
    },
    "kernelspec": {
      "name": "python3",
      "display_name": "Python 3"
    },
    "language_info": {
      "name": "python"
    }
  },
  "cells": [
    {
      "cell_type": "markdown",
      "metadata": {
        "id": "view-in-github",
        "colab_type": "text"
      },
      "source": [
        "<a href=\"https://colab.research.google.com/github/Ditsuhi/ExploratoryAnalysis_FeatureSelection/blob/main/mRMR.ipynb\" target=\"_parent\"><img src=\"https://colab.research.google.com/assets/colab-badge.svg\" alt=\"Open In Colab\"/></a>"
      ]
    },
    {
      "cell_type": "code",
      "source": [
        "# import required libraries\n",
        "\n",
        "import pandas as pd\n",
        "from sklearn.feature_selection import f_regression\n",
        "\n",
        "# the dataset can be found at the following link: https://doi.org/10.5281/zenodo.6497108. \n",
        "# the path provided below can be changed depending your data location.\n",
        "\n",
        "data = pd.read_csv('/content/Madrid_wind_2019.csv', index_col='Unnamed: 0')\n",
        "\n",
        "# inputs:\n",
        "#    X: pandas.DataFrame, features\n",
        "#    y: pandas.Series, target variable\n",
        "#    K: number of features to select (in our example K = {2, 3, 4, 5, 6, 7, 8})\n",
        "\n",
        "X = data.drop(['NO2'], axis=1)\n",
        "y = data['NO2']\n",
        "\n",
        "\n",
        "# compute F-statistics and initialize correlation matrix\n",
        "F = pd.Series(f_regression(X, y)[0], index = X.columns)\n",
        "corr = pd.DataFrame(.00001, index = X.columns, columns = X.columns)\n",
        "\n",
        "# initialize list of selected features and list of excluded features\n",
        "selected = []\n",
        "not_selected = X.columns.to_list()\n",
        "\n",
        "# repeat K times\n",
        "for i in range(K):\n",
        "  \n",
        "    # compute (absolute) correlations between the last selected feature and all the (currently) excluded features\n",
        "    if i > 0:\n",
        "        last_selected = selected[-1]\n",
        "        corr.loc[not_selected, last_selected] = X[not_selected].corrwith(X[last_selected]).abs().clip(.00001)\n",
        "        \n",
        "    # compute FCQ score for all the (currently) excluded features (this is Formula 2)\n",
        "    score = F.loc[not_selected] / corr.loc[not_selected, selected].mean(axis = 1).fillna(.00001)\n",
        "    \n",
        "    # find best feature, add it to selected and remove it from not_selected\n",
        "    best = score.index[score.argmax()]\n",
        "    selected.append(best)\n",
        "    not_selected.remove(best)"
      ],
      "metadata": {
        "id": "l5pyF9E2P6kO"
      },
      "execution_count": null,
      "outputs": []
    }
  ]
}