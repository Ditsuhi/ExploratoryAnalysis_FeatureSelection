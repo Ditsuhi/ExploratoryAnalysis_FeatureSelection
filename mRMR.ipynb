{
  "nbformat": 4,
  "nbformat_minor": 0,
  "metadata": {
    "colab": {
      "name": "mRMR.ipynb",
      "provenance": [],
      "collapsed_sections": [],
      "include_colab_link": true
    },
    "kernelspec": {
      "name": "python3",
      "display_name": "Python 3"
    },
    "language_info": {
      "name": "python"
    }
  },
  "cells": [
    {
      "cell_type": "markdown",
      "metadata": {
        "id": "view-in-github",
        "colab_type": "text"
      },
      "source": [
        "<a href=\"https://colab.research.google.com/github/Ditsuhi/ExploratoryAnalysis_FeatureSelection/blob/main/mRMR.ipynb\" target=\"_parent\"><img src=\"https://colab.research.google.com/assets/colab-badge.svg\" alt=\"Open In Colab\"/></a>"
      ]
    },
    {
      "cell_type": "code",
      "source": [
        "# import required libraries\n",
        "\n",
        "import pandas as pd\n",
        "from sklearn.feature_selection import f_regression\n",
        "\n",
        "# the dataset can be found at the following link: https://doi.org/10.5281/zenodo.6497108. \n",
        "# the path provided below can be changed depending your data location.\n",
        "\n",
        "data = pd.read_csv('/content/Madrid_wind_2019.csv', index_col='Unnamed: 0')"
      ],
      "metadata": {
        "id": "XdfVzisLH5t5"
      },
      "execution_count": 12,
      "outputs": []
    },
    {
      "cell_type": "code",
      "source": [
        "data.columns"
      ],
      "metadata": {
        "id": "BFTLw8ncSyrf",
        "outputId": "7bb405f5-6437-41db-bf04-fbdaa17f18a0",
        "colab": {
          "base_uri": "https://localhost:8080/"
        }
      },
      "execution_count": 13,
      "outputs": [
        {
          "output_type": "execute_result",
          "data": {
            "text/plain": [
              "Index(['NO2', 'intensidad', 'ocupacion', 'windSpeed', ' Pressure', ' SolarRad',\n",
              "       ' Temperature', ' Humidity', 'carga', 'vmed', 'v_comp', 'u_comp',\n",
              "       'windDir_Categ_east', 'windDir_Categ_north', 'windDir_Categ_northeast',\n",
              "       'windDir_Categ_northwest', 'windDir_Categ_south',\n",
              "       'windDir_Categ_southeast', 'windDir_Categ_southwest',\n",
              "       'windDir_Categ_west'],\n",
              "      dtype='object')"
            ]
          },
          "metadata": {},
          "execution_count": 13
        }
      ]
    },
    {
      "cell_type": "code",
      "source": [
        "# below are the features selected to run minimum-redundancy-maximum-relevance. There are 2 options to be run. The first option includes wind direction converted to categories and then applied One Hot Encoder. \n",
        "\n",
        "# first option\n",
        "# data = data[['NO2', 'intensidad', 'ocupacion', 'windSpeed', ' Pressure', ' SolarRad',\n",
        "#        ' Temperature', ' Humidity', 'carga', 'vmed', 'windDir_Categ_east', 'windDir_Categ_north', 'windDir_Categ_northeast',\n",
        "#        'windDir_Categ_northwest', 'windDir_Categ_south',  'windDir_Categ_southeast', 'windDir_Categ_southwest',\n",
        "#        'windDir_Categ_west'\n",
        "#        ]]\n",
        "\n",
        "\n",
        "# second option\n",
        "## This part that is currently uncommented includes wind direction converted to u and v components.\n",
        "\n",
        "data = data[['NO2', 'intensidad', 'ocupacion', 'windSpeed', ' Pressure', ' SolarRad',\n",
        "       ' Temperature', ' Humidity', 'carga', 'vmed', 'v_comp', 'u_comp'\n",
        "       ]]       "
      ],
      "metadata": {
        "id": "iL-SFaZdSvHo"
      },
      "execution_count": 14,
      "outputs": []
    },
    {
      "cell_type": "code",
      "source": [
        "# inputs:\n",
        "#    X: pandas.DataFrame, features\n",
        "#    y: pandas.Series, target variable\n",
        "\n",
        "\n",
        "X = data.drop(['NO2'], axis=1)\n",
        "y = data['NO2']\n",
        "\n",
        "\n",
        "# compute F-statistics and initialize correlation matrix\n",
        "F = pd.Series(f_regression(X, y)[0], index = X.columns)\n",
        "corr = pd.DataFrame(.00001, index = X.columns, columns = X.columns)\n",
        "\n",
        "# initialize list of selected features and list of excluded features\n",
        "selected = []\n",
        "not_selected = X.columns.to_list()\n",
        "\n",
        "\n",
        "\n",
        "# repeat K times\n",
        "# K: number of features to select (in our example K = {2, 3, 4, 5, 6, 7, 8})\n",
        "K=8              \n",
        "for i in range(K):\n",
        "  \n",
        "    # compute (absolute) correlations between the last selected feature and all the (currently) excluded features\n",
        "    if i > 0:\n",
        "        last_selected = selected[-1]\n",
        "        corr.loc[not_selected, last_selected] = X[not_selected].corrwith(X[last_selected]).abs().clip(.00001)\n",
        "        \n",
        "    # compute FCQ score for all the (currently) excluded features (this is Formula 2)\n",
        "    score = F.loc[not_selected] / corr.loc[not_selected, selected].mean(axis = 1).fillna(.00001)\n",
        "    \n",
        "    # find best feature, add it to selected and remove it from not_selected\n",
        "    best = score.index[score.argmax()]\n",
        "    selected.append(best)\n",
        "    not_selected.remove(best)"
      ],
      "metadata": {
        "id": "l5pyF9E2P6kO"
      },
      "execution_count": 15,
      "outputs": []
    },
    {
      "cell_type": "code",
      "source": [
        "# First scenario and K=8.\n",
        "# if K=2, we select the first two features, which will be 'carga' and 'windDir_Categ_northwest'. This procedure we do for all the options from the following set {2, 3, 4, 5, 6, 7, 8}.\n",
        "\n",
        "selected"
      ],
      "metadata": {
        "colab": {
          "base_uri": "https://localhost:8080/"
        },
        "id": "qN6ABpqxCQpt",
        "outputId": "5dbd7e27-890b-4db1-ed6e-081e50fdcd8a"
      },
      "execution_count": 11,
      "outputs": [
        {
          "output_type": "execute_result",
          "data": {
            "text/plain": [
              "['carga',\n",
              " 'windDir_Categ_northwest',\n",
              " ' Pressure',\n",
              " 'windSpeed',\n",
              " 'vmed',\n",
              " 'ocupacion',\n",
              " 'windDir_Categ_north',\n",
              " 'intensidad']"
            ]
          },
          "metadata": {},
          "execution_count": 11
        }
      ]
    },
    {
      "cell_type": "code",
      "source": [
        "# Second scenario and K=8.\n",
        "# if K=2, we select the first two features, which will be 'carga' and 'windDir_Categ_northwest'. This procedure we do for all the options from the following set {2, 3, 4, 5, 6, 7, 8}.\n",
        "\n",
        "selected"
      ],
      "metadata": {
        "colab": {
          "base_uri": "https://localhost:8080/"
        },
        "id": "FwC_rqHnlzJm",
        "outputId": "328b8820-9b6d-47f8-ab0a-1d53115e9c25"
      },
      "execution_count": 16,
      "outputs": [
        {
          "output_type": "execute_result",
          "data": {
            "text/plain": [
              "['carga',\n",
              " ' Pressure',\n",
              " 'windSpeed',\n",
              " 'vmed',\n",
              " 'ocupacion',\n",
              " ' SolarRad',\n",
              " 'intensidad',\n",
              " ' Temperature']"
            ]
          },
          "metadata": {},
          "execution_count": 16
        }
      ]
    }
  ]
}